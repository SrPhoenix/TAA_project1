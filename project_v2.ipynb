{
 "cells": [
  {
   "cell_type": "markdown",
   "id": "e242e3f6",
   "metadata": {},
   "source": [
    "### Decision tree classifier"
   ]
  },
  {
   "cell_type": "code",
   "execution_count": 1,
   "id": "faa8d149",
   "metadata": {},
   "outputs": [],
   "source": [
    "from sklearn.model_selection import train_test_split\n",
    "from sklearn.metrics import confusion_matrix\n",
    "import numpy as np\n",
    "import pandas as pd\n",
    "import matplotlib.pyplot as plt"
   ]
  },
  {
   "cell_type": "code",
   "execution_count": 2,
   "id": "0916b0c1",
   "metadata": {},
   "outputs": [],
   "source": [
    " \n",
    "# load data\n",
    "data=pd.read_csv(\"SaYoPillow.csv\")\n",
    "\n",
    "data.head()\n",
    "data.rename(columns = {'sr':'snoring rate', 'rr':'respiration rate',\n",
    "                        't':'body temperature', 'lm':'limb movement', \n",
    "                        'bo':'blood oxygen', 'rem':'eye movement', \n",
    "                        'sr.1':'sleeping hours','hr':'heart rate', \n",
    "                        'sl':'stress level'}, inplace = True)\n",
    "\n",
    "\n",
    "X = np.array(data.iloc[:, :-1])\n",
    "y = np.array(data.iloc[:, -1])\n",
    "y= y.reshape((len(y),1))\n",
    " \n",
    "# dividing X, y into train and test data\n",
    "X_train, X_test, y_train, y_test = train_test_split(X, y, random_state = 0)\n",
    " \n"
   ]
  },
  {
   "cell_type": "code",
   "execution_count": 3,
   "id": "4a09a644",
   "metadata": {},
   "outputs": [
    {
     "name": "stdout",
     "output_type": "stream",
     "text": [
      "[[36  0  0  0  0]\n",
      " [ 0 25  0  0  0]\n",
      " [ 0  1 29  0  0]\n",
      " [ 0  0  0 30  0]\n",
      " [ 0  0  0 37  0]]\n"
     ]
    }
   ],
   "source": [
    "# training a DescisionTreeClassifier\n",
    "from sklearn.tree import DecisionTreeClassifier\n",
    "dtree_model = DecisionTreeClassifier(max_depth = 2).fit(X_train, y_train)\n",
    "dtree_predictions = dtree_model.predict(X_test)\n",
    " \n",
    "# creating a confusion matrix\n",
    "cm = confusion_matrix(y_test, dtree_predictions)\n",
    "print(cm)"
   ]
  },
  {
   "cell_type": "markdown",
   "id": "47344b83",
   "metadata": {},
   "source": [
    "### SVM (Support vector machine) classifier"
   ]
  },
  {
   "cell_type": "code",
   "execution_count": 4,
   "id": "01bc5855",
   "metadata": {},
   "outputs": [
    {
     "name": "stdout",
     "output_type": "stream",
     "text": [
      "[[36  0  0  0  0]\n",
      " [ 0 25  0  0  0]\n",
      " [ 0  0 30  0  0]\n",
      " [ 0  0  0 30  0]\n",
      " [ 0  0  0  0 37]]\n"
     ]
    }
   ],
   "source": [
    "from sklearn.svm import SVC\n",
    "svm_model_linear = SVC(kernel = 'linear', C = 1).fit(X_train, np.ravel(y_train))\n",
    "svm_predictions = svm_model_linear.predict(X_test)\n",
    " \n",
    "# model accuracy for X_test \n",
    "accuracy = svm_model_linear.score(X_test, y_test)\n",
    " \n",
    "# creating a confusion matrix\n",
    "cm = confusion_matrix(y_test, svm_predictions)\n",
    "print(cm)"
   ]
  },
  {
   "cell_type": "markdown",
   "id": "bda7aca3",
   "metadata": {},
   "source": [
    "## KNN (k-nearest neighbors) classifier"
   ]
  },
  {
   "cell_type": "code",
   "execution_count": 5,
   "id": "72f3c03c",
   "metadata": {},
   "outputs": [
    {
     "name": "stdout",
     "output_type": "stream",
     "text": [
      "1.0\n",
      "[[36  0  0  0  0]\n",
      " [ 0 25  0  0  0]\n",
      " [ 0  0 30  0  0]\n",
      " [ 0  0  0 30  0]\n",
      " [ 0  0  0  0 37]]\n"
     ]
    }
   ],
   "source": [
    "from sklearn.neighbors import KNeighborsClassifier\n",
    "knn = KNeighborsClassifier(n_neighbors = 7).fit(X_train, np.ravel(y_train))\n",
    " \n",
    "# accuracy on X_test\n",
    "accuracy = knn.score(X_test, y_test)\n",
    "print(accuracy)\n",
    " \n",
    "# creating a confusion matrix\n",
    "knn_predictions = knn.predict(X_test)\n",
    "cm = confusion_matrix(y_test, knn_predictions)\n",
    "print(cm)"
   ]
  },
  {
   "cell_type": "markdown",
   "id": "eb763e7a",
   "metadata": {},
   "source": [
    "## Naive Bayes classifier"
   ]
  },
  {
   "cell_type": "code",
   "execution_count": 6,
   "id": "dc648d4b",
   "metadata": {},
   "outputs": [
    {
     "name": "stdout",
     "output_type": "stream",
     "text": [
      "1.0\n",
      "[[36  0  0  0  0]\n",
      " [ 0 25  0  0  0]\n",
      " [ 0  0 30  0  0]\n",
      " [ 0  0  0 30  0]\n",
      " [ 0  0  0  0 37]]\n"
     ]
    }
   ],
   "source": [
    "from sklearn.naive_bayes import GaussianNB\n",
    "gnb = GaussianNB().fit(X_train, np.ravel(y_train))\n",
    "gnb_predictions = gnb.predict(X_test)\n",
    " \n",
    "# accuracy on X_test\n",
    "accuracy = gnb.score(X_test, y_test)\n",
    "print(accuracy)\n",
    " \n",
    "# creating a confusion matrix\n",
    "cm = confusion_matrix(y_test, gnb_predictions)\n",
    "\n",
    "print(cm)"
   ]
  },
  {
   "cell_type": "code",
   "execution_count": null,
   "id": "c400546d",
   "metadata": {},
   "outputs": [],
   "source": []
  }
 ],
 "metadata": {
  "kernelspec": {
   "display_name": "Python 3 (ipykernel)",
   "language": "python",
   "name": "python3"
  },
  "language_info": {
   "codemirror_mode": {
    "name": "ipython",
    "version": 3
   },
   "file_extension": ".py",
   "mimetype": "text/x-python",
   "name": "python",
   "nbconvert_exporter": "python",
   "pygments_lexer": "ipython3",
   "version": "3.9.7"
  }
 },
 "nbformat": 4,
 "nbformat_minor": 5
}
